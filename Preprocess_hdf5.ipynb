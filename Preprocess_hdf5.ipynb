{
 "cells": [
  {
   "cell_type": "markdown",
   "id": "5d847afe",
   "metadata": {},
   "source": [
    "### Setup Reload"
   ]
  },
  {
   "cell_type": "code",
   "execution_count": null,
   "id": "7e81cf7f",
   "metadata": {},
   "outputs": [],
   "source": [
    "%load_ext autoreload\n",
    "%autoreload 2"
   ]
  },
  {
   "cell_type": "markdown",
   "id": "c9b83419",
   "metadata": {},
   "source": [
    "### Import Dependency"
   ]
  },
  {
   "cell_type": "code",
   "execution_count": null,
   "id": "73f66474",
   "metadata": {},
   "outputs": [],
   "source": [
    "import torch\n",
    "import numpy as np\n",
    "import time\n",
    "import h5py \n",
    "\n",
    "from os import path as osp\n",
    "import os\n",
    "import glob\n",
    "from tqdm.notebook import tqdm"
   ]
  },
  {
   "cell_type": "markdown",
   "id": "06e99f1c",
   "metadata": {},
   "source": [
    "### Define path and device"
   ]
  },
  {
   "cell_type": "code",
   "execution_count": null,
   "id": "169f3442",
   "metadata": {},
   "outputs": [],
   "source": [
    "amass_dir = '/home/cotton_ahn/dataset/AMASS/'\n",
    "h5py_dir = '/home/cotton_ahn/dataset/AMASS_h5py/'"
   ]
  },
  {
   "cell_type": "code",
   "execution_count": null,
   "id": "bc304eb0",
   "metadata": {},
   "outputs": [],
   "source": [
    "device = torch.device(\"cuda\" if torch.cuda.is_available() else \"cpu\")\n",
    "print('Using {}'.format(device))"
   ]
  },
  {
   "cell_type": "markdown",
   "id": "c5afa266",
   "metadata": {},
   "source": [
    "### Make directory to save processed hdf5"
   ]
  },
  {
   "cell_type": "code",
   "execution_count": null,
   "id": "c0a7698d",
   "metadata": {},
   "outputs": [],
   "source": [
    "os.makedirs(h5py_dir, exist_ok=True)"
   ]
  },
  {
   "cell_type": "markdown",
   "id": "7573fd49",
   "metadata": {},
   "source": [
    "### Setup the desired fps and str to bridge subject name and action name."
   ]
  },
  {
   "cell_type": "code",
   "execution_count": null,
   "id": "e31e13e7",
   "metadata": {},
   "outputs": [],
   "source": [
    "desired_fps = 30\n",
    "bridge_str = '+++'\n",
    "gender_list = ['neutral', 'female', 'male']"
   ]
  },
  {
   "cell_type": "code",
   "execution_count": null,
   "id": "d055340c",
   "metadata": {
    "scrolled": false
   },
   "outputs": [],
   "source": [
    "fps_set = set()\n",
    "for fp in glob.glob(osp.join(amass_dir, '*')):\n",
    "    dataset_name = fp.split('/')[-1]\n",
    "    f = h5py.File(osp.join(h5py_dir, '{}.hdf5'.format(dataset_name)), 'a')\n",
    "            \n",
    "    print('===============Start Processing : {}==============='.format(dataset_name))\n",
    "    for sub_fp in tqdm(sorted(glob.glob(osp.join(fp, '*/')))):\n",
    "        for npz_fp in tqdm(sorted(glob.glob(osp.join(sub_fp, '*_stageii.npz')))):\n",
    "            # read npz data\n",
    "            bdata = np.load(npz_fp)\n",
    "            gender = bdata['gender']\n",
    "            trans = bdata['trans']\n",
    "            betas = bdata['betas']\n",
    "            poses = bdata['poses']\n",
    "            frame_rate = bdata['mocap_frame_rate']\n",
    "            \n",
    "            # calculate stride for unified FPS\n",
    "            stride = int(np.round(frame_rate / desired_fps))\n",
    "            num_frames = len(range(0, trans.shape[0], stride))\n",
    "            \n",
    "            # add to .hdf5 group\n",
    "            grp_name = npz_fp.split('/')[-2] + bridge_str + npz_fp.split('/')[-1].replace('_stageii.npz', '')\n",
    "            grp = f.create_group(grp_name)\n",
    "            grp.create_dataset('poses', data=poses[::stride])\n",
    "            grp.create_dataset('trans', data=trans[::stride])\n",
    "            grp.create_dataset('betas', data=betas)\n",
    "            grp.create_dataset('gender', data=gender_list.index(gender))\n"
   ]
  }
 ],
 "metadata": {
  "kernelspec": {
   "display_name": "Python [conda env:amass]",
   "language": "python",
   "name": "conda-env-amass-py"
  },
  "language_info": {
   "codemirror_mode": {
    "name": "ipython",
    "version": 3
   },
   "file_extension": ".py",
   "mimetype": "text/x-python",
   "name": "python",
   "nbconvert_exporter": "python",
   "pygments_lexer": "ipython3",
   "version": "3.7.12"
  }
 },
 "nbformat": 4,
 "nbformat_minor": 5
}
